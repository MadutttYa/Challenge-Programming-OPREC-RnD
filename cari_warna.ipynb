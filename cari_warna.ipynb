{
 "cells": [
  {
   "cell_type": "markdown",
   "metadata": {},
   "source": [
    "# Permainan Mencari Warna\n",
    "\n",
    "Dalam permainan ini, pemain nanti akan ditugaskan untuk mencari warna tepat dengan benda atau apapun yang memiliki warna yang sama sesuai dengan perintah di layar nantinya.\n",
    "\n",
    "Kode ini dibuat semata-mata untuk pembiasaan dengan library *computer vision* OPENCV dan sebagai pendalaman pengetahuan."
   ]
  },
  {
   "cell_type": "markdown",
   "metadata": {},
   "source": [
    "## Import Library yang dibutuhkan"
   ]
  },
  {
   "cell_type": "code",
   "execution_count": 15,
   "metadata": {},
   "outputs": [],
   "source": [
    "import cv2 as cv\n",
    "import numpy as np\n",
    "import random\n",
    "import time"
   ]
  },
  {
   "cell_type": "markdown",
   "metadata": {},
   "source": [
    "## Inisialisasi Capture Webcam"
   ]
  },
  {
   "cell_type": "code",
   "execution_count": 16,
   "metadata": {},
   "outputs": [],
   "source": [
    "# Bisa dirubah sesuai dengan webcam yang diguanakan\n",
    "cap = cv.VideoCapture(0)"
   ]
  },
  {
   "cell_type": "markdown",
   "metadata": {},
   "source": [
    "## Inisialisasi Variabel yang Akan Berguna Nantinya\n",
    "\n",
    "Terdapat :\n",
    "1. colors_range, sebagai dictionary yang berisikan nama warna dan nilainya dalam format HSV (Hue, Saturation, Value) untuk memudahkan proses masking nantinya (lebih lengkap: https://docs.opencv.org/4.11.0/df/d9d/tutorial_py_colorspaces.html). Terdapat 1 tuple dan 2 array, array pertama merupakan jangkauan rendah atau nilai rendah, sementara array kedua sebagai jangkauan tingginya\n",
    "\n",
    "2. colors_list, merupakan array yang berisikan *keys* dari dictionary yang ada, berfungsi untuk menyimpan nama-nama warna\n",
    "\n",
    "3. target_color, merupakan variabel yang berfungsi untuk menyimpan warna yang nantinya harus pemain cari. Menggunakan modul random untuk melakukan pembagian modulo dengan 7 (selalu menghasilkan angka dari 0 sampai 6) yang sesuai dengan index pada colors_list\n",
    "\n",
    "4. found, dengan tipe data boolean untuk mengetahui apakah pemain berhasil menemukan warna dari benda yang ia gunakan\n",
    "\n",
    "5. start_time, belum berisi apapun, akan tetapi saat pemain berhasil menemukan warna yang ada maka, akan dimulai. Digunakan untuk timer yang nanti akan diimplementasikan"
   ]
  },
  {
   "cell_type": "code",
   "execution_count": 17,
   "metadata": {},
   "outputs": [],
   "source": [
    "# Dictionary yang berisikan informasi masing-masing warna dalam HSV\n",
    "colors_ranges = {\n",
    "    \"merah\": ([0, 100, 100], [10, 255, 255]),\n",
    "    \"oranye\": ([11, 100, 100], [25, 255, 255]),\n",
    "    \"kuning\": ([26, 100, 100], [35, 255, 255]),\n",
    "    \"hijau\": ([36, 100, 100], [85, 255, 255]),\n",
    "    \"biru\": ([96, 100, 100], [130, 255, 255]),\n",
    "    \"putih\": ([0, 0, 200], [180, 30, 255]),\n",
    "    \"hitam\": ([0, 0, 0], [180, 255, 50]),\n",
    "}\n",
    "\n",
    "colors_list = [i for i in colors_ranges.keys()]\n",
    "target_color = colors_list[random.randint(0, 100) % 7]\n",
    "already_detected_color = []\n",
    "tidak_memiliki_warna = []\n",
    "found = False\n",
    "start_time = None\n",
    "next_color = None"
   ]
  },
  {
   "cell_type": "markdown",
   "metadata": {},
   "source": [
    "## Logika Utama\n",
    "\n",
    "Saya akan menggunakan fitur OPENCV yang ada yaitu *contours (lebih lanjut : https://docs.opencv.org/4.11.0/d3/d05/tutorial_py_table_of_contents_contours.html)* untuk mendeteksi batas-batas objek yang signifikan dalam gambar. "
   ]
  },
  {
   "cell_type": "code",
   "execution_count": null,
   "metadata": {},
   "outputs": [
    {
     "name": "stdout",
     "output_type": "stream",
     "text": [
      "Tidak ada warna tersisa\n"
     ]
    }
   ],
   "source": [
    "while cap.isOpened():\n",
    "    # Membaca webcam\n",
    "    success, frame = cap.read()\n",
    "\n",
    "    # Mengatur ulang ukuran webcam yang akan ditampilkan\n",
    "    resize = cv.resize(frame, (1280, 720))\n",
    "\n",
    "    if not success:\n",
    "        print(\"Tidak dapat merender frame!\")\n",
    "        break\n",
    "    \n",
    "    # Merubah format warna dari BGR ke HSV\n",
    "    hsv_frame = cv.cvtColor(resize, cv.COLOR_BGR2HSV)\n",
    "\n",
    "    # Menyimpan warna yang tersisa dan selalu update warna yang tersisa\n",
    "    colors_remaining = [color for color in colors_list if color not in already_detected_color and color not in tidak_memiliki_warna]\n",
    "\n",
    "    # Menyimpan nilai array pertama dan kedua dari dictionary\n",
    "    lower_value, upper_value = np.array(colors_ranges[target_color][0]), np.array(colors_ranges[target_color][1])\n",
    "\n",
    "    # Masking\n",
    "    mask = cv.inRange(hsv_frame, lower_value, upper_value)\n",
    "    masking_result = cv.bitwise_and(resize, resize, mask=mask)\n",
    "\n",
    "    cv.putText(resize, f\"Find = {target_color}\", (50, 50), cv.FONT_HERSHEY_COMPLEX, 1.1, (255, 0, 0), 2, cv.LINE_AA)\n",
    "\n",
    "    # Mendeteksi batas-batas (kontur) dari objek yang ada dalam gambar biner (mask).\n",
    "    contours, hierarchy = cv.findContours(mask, cv.RETR_TREE, cv.CHAIN_APPROX_SIMPLE)\n",
    "\n",
    "    # Jika terdapat kontur\n",
    "    if contours:\n",
    "        for contour in contours:\n",
    "            area = cv.contourArea(contour) # Hitung luas kontur\n",
    "            if area > 1000: #Jika luas benda lebih dari 1000px\n",
    "\n",
    "                # Menggambar semua kontur yang ada di dalam frame\n",
    "                cv.drawContours(resize, contours, -1, (0, 255, 0), 3)\n",
    "                cv.putText(resize, \"Warna Ditemukan!\", (1280 - 350, 50), cv.FONT_HERSHEY_COMPLEX, 1, (0, 255, 0), 2, cv.LINE_AA)\n",
    "\n",
    "                # Warna sesuai (sudah ditemukan)\n",
    "                found = True\n",
    "                already_detected_color.append(target_color)\n",
    "                \n",
    "                # Catat waktu awal saat berhasil ditemukan\n",
    "                start_time = time.time() \n",
    "\n",
    "    if found and start_time is not None:\n",
    "        # Hitung waktu yang sudah jalan sejak waktu awal dicatat\n",
    "        elapsed_time = time.time() - start_time\n",
    "\n",
    "        # Waktu tersisa sebelum berganti secara otomatis ke warna yang lain\n",
    "        remaining_time = max(10 - int(elapsed_time), 0)\n",
    "        cv.putText(resize, f\"Next color in: {remaining_time}s\", (50, 100), cv.FONT_HERSHEY_COMPLEX, 1, (255, 255, 255), 2, cv.LINE_AA)\n",
    "\n",
    "        # Jika waktu yang dijalani lebih dari 10 detik, maka akan mengubah warna yang harus dicari dan mereset beberapa kondisi\n",
    "        if elapsed_time >= 10:\n",
    "            # Akan berubah warna hanya jika masih ada warna yang tersisa\n",
    "            if len(colors_remaining) > 0:\n",
    "                next_color = random.choice(colors_remaining)\n",
    "                target_color = next_color\n",
    "            else:\n",
    "                print(\"tidak ada warna tersisa\")\n",
    "                break\n",
    "\n",
    "            # Reset kondisi ditemukannya warna\n",
    "            found = False\n",
    "\n",
    "            # Reset waktu ditemukannya warna\n",
    "            start_time = None\n",
    "    \n",
    "    # Menampilkan frame webcam\n",
    "    cv.imshow(\"Cari Warna\", resize)\n",
    "\n",
    "    # Menampilkan frame hasil masking\n",
    "    cv.imshow(\"Hasil Masking\", masking_result)\n",
    "\n",
    "    # Jika pemain stuck dan tidak dapat menemukan benda yang sesuai warnanya, maka dapat menekan tombol n untuk pilihan warna yang lain\n",
    "    if cv.waitKey(1) & 0xFF == ord(\"n\"):\n",
    "        tidak_memiliki_warna.append(target_color)\n",
    "        # Hanya akan berubah warna hanya jika masih ada warna yang tersisa\n",
    "        if len(colors_remaining) > 0:\n",
    "            next_color = random.choice(colors_remaining)\n",
    "            target_color = next_color\n",
    "        else:\n",
    "            print(\"Tidak ada warna tersisa\")\n",
    "            break\n",
    "    \n",
    "    # Keluar dari program\n",
    "    elif cv.waitKey(1) & 0xFF == ord(\"q\"):\n",
    "        break\n",
    "\n",
    "cap.release()\n",
    "cv.destroyAllWindows()"
   ]
  }
 ],
 "metadata": {
  "kernelspec": {
   "display_name": "3.10.1",
   "language": "python",
   "name": "python3"
  },
  "language_info": {
   "codemirror_mode": {
    "name": "ipython",
    "version": 3
   },
   "file_extension": ".py",
   "mimetype": "text/x-python",
   "name": "python",
   "nbconvert_exporter": "python",
   "pygments_lexer": "ipython3",
   "version": "3.10.1"
  }
 },
 "nbformat": 4,
 "nbformat_minor": 2
}
